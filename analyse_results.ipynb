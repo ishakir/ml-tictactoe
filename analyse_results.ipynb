{
 "cells": [
  {
   "cell_type": "code",
   "execution_count": 2,
   "metadata": {},
   "outputs": [],
   "source": [
    "%matplotlib inline\n",
    "\n",
    "from collections import defaultdict\n",
    "import pandas as pd\n",
    "\n",
    "def read_file(file):\n",
    "    results_per_bot = defaultdict(lambda: defaultdict(lambda: 0))\n",
    "    with open(file, 'r') as f:\n",
    "        headers = f.readline().strip()\n",
    "        line = \"1\"\n",
    "        while line:\n",
    "            line = f.readline().strip()\n",
    "            entries = line.split(\",\")\n",
    "            if len(entries) == 3:\n",
    "                if entries[2] == 'X':\n",
    "                    results_per_bot[entries[0]]['wins'] += 1\n",
    "                    results_per_bot[entries[1]]['losses'] += 1\n",
    "                elif entries[2] == 'O':\n",
    "                    results_per_bot[entries[1]]['wins'] += 1\n",
    "                    results_per_bot[entries[0]]['losses'] += 1\n",
    "                elif entries[2] == 'draw':\n",
    "                    results_per_bot[entries[0]]['draws'] += 1\n",
    "                    results_per_bot[entries[1]]['draws'] += 1\n",
    "                else:\n",
    "                    raise RuntimeError(\"wtf\")\n",
    "    \n",
    "    return results_per_bot\n",
    "    \n",
    "def print_table(file):\n",
    "    results_per_bot = read_file(file)\n",
    "    \n",
    "    all_results = []\n",
    "    for bot_number, results in results_per_bot.items():\n",
    "        all_results.append([bot_number, results['wins'], results['draws'], results['losses']])\n",
    "    sorted_results = sorted(all_results, key=lambda x: x[0])\n",
    "    \n",
    "    for result in sorted_results:\n",
    "        print(\",\".join([str(res) for res in result]))\n",
    "\n",
    "def df_up_to(max_round, which):\n",
    "    data = []\n",
    "    for x in range(max_round):\n",
    "        results_per_bot = read_file('output/{}/{}/results_summary.csv'.format(x, which))\n",
    "        for bot_number, results in results_per_bot.items():\n",
    "            data.append([x, bot_number, results['wins'], results['draws'], results['losses']])\n",
    "    return pd.DataFrame(data, columns=['round', 'bot_number', 'wins', 'draws', 'losses'])\n",
    "        "
   ]
  },
  {
   "cell_type": "code",
   "execution_count": 89,
   "metadata": {},
   "outputs": [],
   "source": [
    "round_up_to = 66\n",
    "rolling = 15\n",
    "data = df_up_to(round_up_to, 'round_robin')\n",
    "mm_data = df_up_to(round_up_to, 'minimax')"
   ]
  },
  {
   "cell_type": "code",
   "execution_count": 90,
   "metadata": {},
   "outputs": [
    {
     "data": {
      "text/plain": [
       "<matplotlib.axes._subplots.AxesSubplot at 0x11ea994a8>"
      ]
     },
     "execution_count": 90,
     "metadata": {},
     "output_type": "execute_result"
    },
    {
     "data": {
      "image/png": "[encoded data removed]",
      "text/plain": [
       "<Figure size 432x288 with 1 Axes>"
      ]
     },
     "metadata": {
      "needs_background": "light"
     },
     "output_type": "display_data"
    }
   ],
   "source": [
    "data['result'] = data['wins']\n",
    "data['no_result'] = data['draws'] / 2\n",
    "data.groupby('round')[['result', 'no_result']].sum().rolling(rolling).mean().plot()"
   ]
  },
  {
   "cell_type": "code",
   "execution_count": 91,
   "metadata": {},
   "outputs": [
    {
     "data": {
      "text/plain": [
       "<matplotlib.axes._subplots.AxesSubplot at 0x11edeecc0>"
      ]
     },
     "execution_count": 91,
     "metadata": {},
     "output_type": "execute_result"
    },
    {
     "data": {
      "image/png": "[encoded data removed]",
      "text/plain": [
       "<Figure size 432x288 with 1 Axes>"
      ]
     },
     "metadata": {
      "needs_background": "light"
     },
     "output_type": "display_data"
    }
   ],
   "source": [
    "mm_data[mm_data['bot_number'] == 'Minimax Player'].groupby('round')[['wins', 'draws', 'losses']].sum().rolling(rolling).mean().plot()"
   ]
  },
  {
   "cell_type": "code",
   "execution_count": 64,
   "metadata": {},
   "outputs": [
    {
     "data": {
      "text/html": [
       "<div>\n",
       "<style scoped>\n",
       "    .dataframe tbody tr th:only-of-type {\n",
       "        vertical-align: middle;\n",
       "    }\n",
       "\n",
       "    .dataframe tbody tr th {\n",
       "        vertical-align: top;\n",
       "    }\n",
       "\n",
       "    .dataframe thead th {\n",
       "        text-align: right;\n",
       "    }\n",
       "</style>\n",
       "<table border=\"1\" class=\"dataframe\">\n",
       "  <thead>\n",
       "    <tr style=\"text-align: right;\">\n",
       "      <th></th>\n",
       "      <th>round</th>\n",
       "      <th>bot_number</th>\n",
       "      <th>wins</th>\n",
       "      <th>draws</th>\n",
       "      <th>losses</th>\n",
       "      <th>result</th>\n",
       "      <th>no_result</th>\n",
       "    </tr>\n",
       "  </thead>\n",
       "  <tbody>\n",
       "    <tr>\n",
       "      <th>6962</th>\n",
       "      <td>278</td>\n",
       "      <td>ML Bot 12</td>\n",
       "      <td>29</td>\n",
       "      <td>3</td>\n",
       "      <td>18</td>\n",
       "      <td>29</td>\n",
       "      <td>1.5</td>\n",
       "    </tr>\n",
       "    <tr>\n",
       "      <th>6969</th>\n",
       "      <td>278</td>\n",
       "      <td>ML Bot 19</td>\n",
       "      <td>28</td>\n",
       "      <td>9</td>\n",
       "      <td>13</td>\n",
       "      <td>28</td>\n",
       "      <td>4.5</td>\n",
       "    </tr>\n",
       "    <tr>\n",
       "      <th>6966</th>\n",
       "      <td>278</td>\n",
       "      <td>ML Bot 16</td>\n",
       "      <td>27</td>\n",
       "      <td>5</td>\n",
       "      <td>18</td>\n",
       "      <td>27</td>\n",
       "      <td>2.5</td>\n",
       "    </tr>\n",
       "    <tr>\n",
       "      <th>6953</th>\n",
       "      <td>278</td>\n",
       "      <td>ML Bot 3</td>\n",
       "      <td>27</td>\n",
       "      <td>4</td>\n",
       "      <td>19</td>\n",
       "      <td>27</td>\n",
       "      <td>2.0</td>\n",
       "    </tr>\n",
       "    <tr>\n",
       "      <th>6950</th>\n",
       "      <td>278</td>\n",
       "      <td>ML Bot 0</td>\n",
       "      <td>25</td>\n",
       "      <td>7</td>\n",
       "      <td>18</td>\n",
       "      <td>25</td>\n",
       "      <td>3.5</td>\n",
       "    </tr>\n",
       "    <tr>\n",
       "      <th>6955</th>\n",
       "      <td>278</td>\n",
       "      <td>ML Bot 5</td>\n",
       "      <td>24</td>\n",
       "      <td>4</td>\n",
       "      <td>22</td>\n",
       "      <td>24</td>\n",
       "      <td>2.0</td>\n",
       "    </tr>\n",
       "    <tr>\n",
       "      <th>6967</th>\n",
       "      <td>278</td>\n",
       "      <td>ML Bot 17</td>\n",
       "      <td>23</td>\n",
       "      <td>14</td>\n",
       "      <td>13</td>\n",
       "      <td>23</td>\n",
       "      <td>7.0</td>\n",
       "    </tr>\n",
       "    <tr>\n",
       "      <th>6970</th>\n",
       "      <td>278</td>\n",
       "      <td>ML Bot 20</td>\n",
       "      <td>23</td>\n",
       "      <td>8</td>\n",
       "      <td>19</td>\n",
       "      <td>23</td>\n",
       "      <td>4.0</td>\n",
       "    </tr>\n",
       "    <tr>\n",
       "      <th>6968</th>\n",
       "      <td>278</td>\n",
       "      <td>ML Bot 18</td>\n",
       "      <td>21</td>\n",
       "      <td>13</td>\n",
       "      <td>16</td>\n",
       "      <td>21</td>\n",
       "      <td>6.5</td>\n",
       "    </tr>\n",
       "    <tr>\n",
       "      <th>6965</th>\n",
       "      <td>278</td>\n",
       "      <td>ML Bot 15</td>\n",
       "      <td>21</td>\n",
       "      <td>9</td>\n",
       "      <td>20</td>\n",
       "      <td>21</td>\n",
       "      <td>4.5</td>\n",
       "    </tr>\n",
       "    <tr>\n",
       "      <th>6959</th>\n",
       "      <td>278</td>\n",
       "      <td>ML Bot 9</td>\n",
       "      <td>20</td>\n",
       "      <td>7</td>\n",
       "      <td>23</td>\n",
       "      <td>20</td>\n",
       "      <td>3.5</td>\n",
       "    </tr>\n",
       "    <tr>\n",
       "      <th>6960</th>\n",
       "      <td>278</td>\n",
       "      <td>ML Bot 10</td>\n",
       "      <td>19</td>\n",
       "      <td>15</td>\n",
       "      <td>16</td>\n",
       "      <td>19</td>\n",
       "      <td>7.5</td>\n",
       "    </tr>\n",
       "    <tr>\n",
       "      <th>6961</th>\n",
       "      <td>278</td>\n",
       "      <td>ML Bot 11</td>\n",
       "      <td>19</td>\n",
       "      <td>13</td>\n",
       "      <td>18</td>\n",
       "      <td>19</td>\n",
       "      <td>6.5</td>\n",
       "    </tr>\n",
       "    <tr>\n",
       "      <th>6964</th>\n",
       "      <td>278</td>\n",
       "      <td>ML Bot 14</td>\n",
       "      <td>19</td>\n",
       "      <td>10</td>\n",
       "      <td>21</td>\n",
       "      <td>19</td>\n",
       "      <td>5.0</td>\n",
       "    </tr>\n",
       "    <tr>\n",
       "      <th>6972</th>\n",
       "      <td>278</td>\n",
       "      <td>ML Bot 22</td>\n",
       "      <td>19</td>\n",
       "      <td>9</td>\n",
       "      <td>22</td>\n",
       "      <td>19</td>\n",
       "      <td>4.5</td>\n",
       "    </tr>\n",
       "    <tr>\n",
       "      <th>6973</th>\n",
       "      <td>278</td>\n",
       "      <td>ML Bot 23</td>\n",
       "      <td>19</td>\n",
       "      <td>7</td>\n",
       "      <td>24</td>\n",
       "      <td>19</td>\n",
       "      <td>3.5</td>\n",
       "    </tr>\n",
       "    <tr>\n",
       "      <th>6974</th>\n",
       "      <td>278</td>\n",
       "      <td>ML Bot 24</td>\n",
       "      <td>19</td>\n",
       "      <td>10</td>\n",
       "      <td>21</td>\n",
       "      <td>19</td>\n",
       "      <td>5.0</td>\n",
       "    </tr>\n",
       "    <tr>\n",
       "      <th>6957</th>\n",
       "      <td>278</td>\n",
       "      <td>ML Bot 7</td>\n",
       "      <td>18</td>\n",
       "      <td>6</td>\n",
       "      <td>26</td>\n",
       "      <td>18</td>\n",
       "      <td>3.0</td>\n",
       "    </tr>\n",
       "    <tr>\n",
       "      <th>6958</th>\n",
       "      <td>278</td>\n",
       "      <td>ML Bot 8</td>\n",
       "      <td>17</td>\n",
       "      <td>8</td>\n",
       "      <td>25</td>\n",
       "      <td>17</td>\n",
       "      <td>4.0</td>\n",
       "    </tr>\n",
       "    <tr>\n",
       "      <th>6971</th>\n",
       "      <td>278</td>\n",
       "      <td>ML Bot 21</td>\n",
       "      <td>17</td>\n",
       "      <td>14</td>\n",
       "      <td>19</td>\n",
       "      <td>17</td>\n",
       "      <td>7.0</td>\n",
       "    </tr>\n",
       "    <tr>\n",
       "      <th>6963</th>\n",
       "      <td>278</td>\n",
       "      <td>ML Bot 13</td>\n",
       "      <td>16</td>\n",
       "      <td>9</td>\n",
       "      <td>25</td>\n",
       "      <td>16</td>\n",
       "      <td>4.5</td>\n",
       "    </tr>\n",
       "    <tr>\n",
       "      <th>6956</th>\n",
       "      <td>278</td>\n",
       "      <td>ML Bot 6</td>\n",
       "      <td>16</td>\n",
       "      <td>9</td>\n",
       "      <td>25</td>\n",
       "      <td>16</td>\n",
       "      <td>4.5</td>\n",
       "    </tr>\n",
       "    <tr>\n",
       "      <th>6951</th>\n",
       "      <td>278</td>\n",
       "      <td>ML Bot 1</td>\n",
       "      <td>14</td>\n",
       "      <td>11</td>\n",
       "      <td>25</td>\n",
       "      <td>14</td>\n",
       "      <td>5.5</td>\n",
       "    </tr>\n",
       "    <tr>\n",
       "      <th>6954</th>\n",
       "      <td>278</td>\n",
       "      <td>ML Bot 4</td>\n",
       "      <td>14</td>\n",
       "      <td>19</td>\n",
       "      <td>17</td>\n",
       "      <td>14</td>\n",
       "      <td>9.5</td>\n",
       "    </tr>\n",
       "    <tr>\n",
       "      <th>6952</th>\n",
       "      <td>278</td>\n",
       "      <td>ML Bot 2</td>\n",
       "      <td>14</td>\n",
       "      <td>11</td>\n",
       "      <td>25</td>\n",
       "      <td>14</td>\n",
       "      <td>5.5</td>\n",
       "    </tr>\n",
       "  </tbody>\n",
       "</table>\n",
       "</div>"
      ],
      "text/plain": [
       "      round bot_number  wins  draws  losses  result  no_result\n",
       "6962    278  ML Bot 12    29      3      18      29        1.5\n",
       "6969    278  ML Bot 19    28      9      13      28        4.5\n",
       "6966    278  ML Bot 16    27      5      18      27        2.5\n",
       "6953    278   ML Bot 3    27      4      19      27        2.0\n",
       "6950    278   ML Bot 0    25      7      18      25        3.5\n",
       "6955    278   ML Bot 5    24      4      22      24        2.0\n",
       "6967    278  ML Bot 17    23     14      13      23        7.0\n",
       "6970    278  ML Bot 20    23      8      19      23        4.0\n",
       "6968    278  ML Bot 18    21     13      16      21        6.5\n",
       "6965    278  ML Bot 15    21      9      20      21        4.5\n",
       "6959    278   ML Bot 9    20      7      23      20        3.5\n",
       "6960    278  ML Bot 10    19     15      16      19        7.5\n",
       "6961    278  ML Bot 11    19     13      18      19        6.5\n",
       "6964    278  ML Bot 14    19     10      21      19        5.0\n",
       "6972    278  ML Bot 22    19      9      22      19        4.5\n",
       "6973    278  ML Bot 23    19      7      24      19        3.5\n",
       "6974    278  ML Bot 24    19     10      21      19        5.0\n",
       "6957    278   ML Bot 7    18      6      26      18        3.0\n",
       "6958    278   ML Bot 8    17      8      25      17        4.0\n",
       "6971    278  ML Bot 21    17     14      19      17        7.0\n",
       "6963    278  ML Bot 13    16      9      25      16        4.5\n",
       "6956    278   ML Bot 6    16      9      25      16        4.5\n",
       "6951    278   ML Bot 1    14     11      25      14        5.5\n",
       "6954    278   ML Bot 4    14     19      17      14        9.5\n",
       "6952    278   ML Bot 2    14     11      25      14        5.5"
      ]
     },
     "execution_count": 64,
     "metadata": {},
     "output_type": "execute_result"
    }
   ],
   "source": [
    "data[data['round'] == (round_up_to - 1)].sort_values('wins', ascending=False)"
   ]
  },
  {
   "cell_type": "code",
   "execution_count": 65,
   "metadata": {},
   "outputs": [
    {
     "data": {
      "text/plain": [
       "<matplotlib.axes._subplots.AxesSubplot at 0x11e011080>"
      ]
     },
     "execution_count": 65,
     "metadata": {},
     "output_type": "execute_result"
    },
    {
     "data": {
      "image/png": "[encoded data removed]",
      "text/plain": [
       "<Figure size 432x288 with 1 Axes>"
      ]
     },
     "metadata": {
      "needs_background": "light"
     },
     "output_type": "display_data"
    }
   ],
   "source": [
    "data[data['bot_number'] == \"ML Bot 12\"].set_index('round')[['wins', 'draws', 'losses']].rolling(rolling).mean().plot()"
   ]
  },
  {
   "cell_type": "code",
   "execution_count": 203,
   "metadata": {},
   "outputs": [
    {
     "data": {
      "text/plain": [
       "<matplotlib.axes._subplots.AxesSubplot at 0x11c180f28>"
      ]
     },
     "execution_count": 203,
     "metadata": {},
     "output_type": "execute_result"
    },
    {
     "data": {
      "image/png": "[encoded data removed]",
      "text/plain": [
       "<Figure size 432x288 with 1 Axes>"
      ]
     },
     "metadata": {
      "needs_background": "light"
     },
     "output_type": "display_data"
    }
   ],
   "source": [
    "data[data['bot_number'] == \"0\"].set_index('round')[['wins', 'draws', 'losses']].rolling(rolling).mean().plot()"
   ]
  },
  {
   "cell_type": "code",
   "execution_count": null,
   "metadata": {},
   "outputs": [],
   "source": []
  },
  {
   "cell_type": "code",
   "execution_count": 7,
   "metadata": {},
   "outputs": [],
   "source": []
  },
  {
   "cell_type": "code",
   "execution_count": null,
   "metadata": {},
   "outputs": [],
   "source": []
  },
  {
   "cell_type": "code",
   "execution_count": null,
   "metadata": {},
   "outputs": [],
   "source": []
  },
  {
   "cell_type": "markdown",
   "metadata": {},
   "source": [
    "### Imran Special Relativity"
   ]
  },
  {
   "cell_type": "code",
   "execution_count": 11,
   "metadata": {},
   "outputs": [],
   "source": [
    "import numpy as np\n",
    "import pandas as pd"
   ]
  },
  {
   "cell_type": "code",
   "execution_count": 94,
   "metadata": {},
   "outputs": [],
   "source": [
    "x_0 = 0.01\n",
    "t_prime_0 = 1\n",
    "\n",
    "def velocity_function(v_i):\n",
    "    return ((x_0 + t_prime_0) * np.power(v_i, 4)) - (((2 * x_0) + t_prime_0) * np.power(v_i, 2)) + (x_0)\n",
    "\n",
    "def full_solution(time_distance_ratio):\n",
    "    return np.sqrt(1 / (1 + np.power(time_distance_ratio, 2)))\n",
    "\n",
    "def full_solution_2(time_ratio):\n",
    "    return np.sqrt(1 - np.power(time_ratio, 2))"
   ]
  },
  {
   "cell_type": "code",
   "execution_count": 50,
   "metadata": {},
   "outputs": [],
   "source": [
    "v = np.linspace(-1.1, 1.1, 10000)\n",
    "f_v = [velocity_function(v_i) for v_i in v]"
   ]
  },
  {
   "cell_type": "code",
   "execution_count": 51,
   "metadata": {},
   "outputs": [
    {
     "data": {
      "text/plain": [
       "<matplotlib.axes._subplots.AxesSubplot at 0x118a297b8>"
      ]
     },
     "execution_count": 51,
     "metadata": {},
     "output_type": "execute_result"
    },
    {
     "data": {
      "image/png": "[encoded data removed]",
      "text/plain": [
       "<Figure size 432x288 with 1 Axes>"
      ]
     },
     "metadata": {
      "needs_background": "light"
     },
     "output_type": "display_data"
    }
   ],
   "source": [
    "pd.Series(f_v, index=v).plot()"
   ]
  },
  {
   "cell_type": "markdown",
   "metadata": {},
   "source": [
    "# Velocity as a function of distance / time reported ratio\n",
    "\n",
    "This graph documents the answer to the question, what proportion of the speed of light is a spaceship travelling if you see it reach a star that is a distance x_0 light years away and the crew of the ship report that it took t_0 years to get there. x axis plotted a x_0 / t_0\n",
    "\n",
    "Very much enjoy that the limits converage when the ratio is large (moving significantly slower than light speed)"
   ]
  },
  {
   "cell_type": "code",
   "execution_count": 87,
   "metadata": {},
   "outputs": [],
   "source": [
    "ratio = np.linspace(0.5, 10, 10000)\n",
    "f_ratio = [full_solution(ratio_i) for ratio_i in ratio]\n",
    "g_ratio = 1 / ratio"
   ]
  },
  {
   "cell_type": "code",
   "execution_count": 89,
   "metadata": {},
   "outputs": [
    {
     "data": {
      "text/plain": [
       "<matplotlib.axes._subplots.AxesSubplot at 0x11ad91e48>"
      ]
     },
     "execution_count": 89,
     "metadata": {},
     "output_type": "execute_result"
    },
    {
     "data": {
      "image/png": "[encoded data removed]",
      "text/plain": [
       "<Figure size 432x288 with 1 Axes>"
      ]
     },
     "metadata": {
      "needs_background": "light"
     },
     "output_type": "display_data"
    }
   ],
   "source": [
    "pd.DataFrame(np.array([f_ratio, g_ratio]).T, index=ratio, columns=['einstein', 'newton']).plot()"
   ]
  },
  {
   "cell_type": "markdown",
   "metadata": {},
   "source": [
    "# Velocity as a function of time reported / time observed ratio\n",
    "\n",
    "The graph documents the answer to the question, what propertion of the speed of light is a spaceship travelling if you see it reach a certain point in time t_0 and the crew of that ship report that it took time t_prime_0 to reach that point\n",
    "\n",
    "Note that the classical limit here is as the x-axis tends to 1"
   ]
  },
  {
   "cell_type": "code",
   "execution_count": 108,
   "metadata": {},
   "outputs": [],
   "source": [
    "ratio2 = np.linspace(0, 1, 10000)\n",
    "f_ratio2 = [full_solution_2(ratio_i) for ratio_i in ratio2]"
   ]
  },
  {
   "cell_type": "code",
   "execution_count": 130,
   "metadata": {},
   "outputs": [
    {
     "data": {
      "text/plain": [
       "<matplotlib.axes._subplots.AxesSubplot at 0x11e613710>"
      ]
     },
     "execution_count": 130,
     "metadata": {},
     "output_type": "execute_result"
    },
    {
     "data": {
      "image/png": "[encoded data removed]",
      "text/plain": [
       "<Figure size 432x288 with 1 Axes>"
      ]
     },
     "metadata": {
      "needs_background": "light"
     },
     "output_type": "display_data"
    }
   ],
   "source": [
    "pd.Series(f_ratio2, index=ratio2).plot()"
   ]
  },
  {
   "cell_type": "code",
   "execution_count": null,
   "metadata": {},
   "outputs": [],
   "source": []
  },
  {
   "cell_type": "code",
   "execution_count": null,
   "metadata": {},
   "outputs": [],
   "source": []
  },
  {
   "cell_type": "code",
   "execution_count": null,
   "metadata": {},
   "outputs": [],
   "source": []
  },
  {
   "cell_type": "markdown",
   "metadata": {},
   "source": [
    "# Summation of frame velocities\n",
    "\n",
    "This plot answers the following question:\n",
    "\n",
    "We have three inertial frames: S, S' and S''. S' is moving at a speed v_1 relative to S and S'' is moving at a speed v_2 relative to S'. What speed is S'' moving at relative to S?"
   ]
  },
  {
   "cell_type": "code",
   "execution_count": 138,
   "metadata": {},
   "outputs": [],
   "source": [
    "import numpy as np\n",
    "import matplotlib.pyplot as plt\n",
    "from mpl_toolkits import mplot3d"
   ]
  },
  {
   "cell_type": "code",
   "execution_count": 156,
   "metadata": {},
   "outputs": [],
   "source": [
    "def f(x, y):\n",
    "    return np.abs(((x + y) / (1 + (x*y))))\n",
    "\n",
    "v_1 = np.linspace(-0.99999, 0.99999, 30)\n",
    "v_2 = np.linspace(-0.99999, 0.99999, 30)\n",
    "\n",
    "X, Y = np.meshgrid(v_1, v_2)\n",
    "Z = f(X, Y)"
   ]
  },
  {
   "cell_type": "code",
   "execution_count": 159,
   "metadata": {},
   "outputs": [],
   "source": [
    "fig = plt.figure()\n",
    "ax = plt.axes(projection='3d')\n",
    "ax.plot_surface(X, Y, Z, rstride=1, cstride=1,\n",
    "                cmap='viridis', edgecolor='none')\n",
    "ax.set_title('surface')"
   ]
  }
 ],
 "metadata": {
  "kernelspec": {
   "display_name": "Python 3",
   "language": "python",
   "name": "python3"
  }
 },
 "nbformat": 4,
 "nbformat_minor": 2
}
